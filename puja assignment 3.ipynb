{
 "cells": [
  {
   "cell_type": "markdown",
   "id": "regular-canada",
   "metadata": {},
   "source": [
    "<h1>What is Flowcontrol?</h1>"
   ]
  },
  {
   "cell_type": "markdown",
   "id": "contained-metabolism",
   "metadata": {},
   "source": [
    "<p>ANS:In python progamming,flow control is a order in which indiviual statements,instructions and function calls of an imperative program are excuted and evaluated</p>"
   ]
  },
  {
   "cell_type": "markdown",
   "id": "bigger-intent",
   "metadata": {},
   "source": [
    "<h1>list of all flow control with example</h1>"
   ]
  },
  {
   "cell_type": "markdown",
   "id": "fatty-series",
   "metadata": {},
   "source": [
    "<p>ANS:<br>Sequential(a=25,b=56)when we will print a,b it prints sequentially a,b.</br> conditonal statement.(if,if else,if elif else,if elif)"
   ]
  },
  {
   "cell_type": "markdown",
   "id": "systematic-percentage",
   "metadata": {},
   "source": [
    "Iterative statement:For,While"
   ]
  },
  {
   "cell_type": "markdown",
   "id": "grateful-empire",
   "metadata": {},
   "source": [
    "Transfer statement:Break,continue"
   ]
  },
  {
   "cell_type": "markdown",
   "id": "front-business",
   "metadata": {},
   "source": [
    "<h1>What is conditional statement</h1>"
   ]
  },
  {
   "cell_type": "markdown",
   "id": "extraordinary-split",
   "metadata": {},
   "source": [
    "<p>Ans:Conditional statement in python perform different computations or actions depending on whether a specific boolean constriant evaluates to true or false.Conditional statements are handled by if statements in Python.</p>"
   ]
  },
  {
   "cell_type": "markdown",
   "id": "suspended-collective",
   "metadata": {},
   "source": [
    "<h1> Describe structure of conditional statement</h1>"
   ]
  },
  {
   "cell_type": "markdown",
   "id": "fitted-filter",
   "metadata": {},
   "source": [
    "<p>ANS:In Python ,we have four conditional statement:<br>\n",
    "    1.Simple if statement;<br>\n",
    "    2.If-else statement;<br>\n",
    "    3.If-elif statement;<br>\n",
    "    4.Nested if statement;<br>\n",
    "    \n",
    "    "
   ]
  },
  {
   "cell_type": "markdown",
   "id": "active-kansas",
   "metadata": {},
   "source": [
    "if(condition 1):<br>\n",
    "print(statment 1)<br>\n",
    "elif(condition 2):<br>\n",
    "print(statment 2)<br>\n",
    "else<br>\n",
    "print(statement)\n"
   ]
  },
  {
   "cell_type": "markdown",
   "id": "moderate-extent",
   "metadata": {},
   "source": [
    "<h1>Problem 1</h1>"
   ]
  },
  {
   "cell_type": "markdown",
   "id": "infinite-damages",
   "metadata": {},
   "source": [
    "<b>Take a input from user and check whether it is odd or even?</b>"
   ]
  },
  {
   "cell_type": "code",
   "execution_count": 10,
   "id": "alive-activity",
   "metadata": {},
   "outputs": [
    {
     "name": "stdout",
     "output_type": "stream",
     "text": [
      "enter a number : 4\n",
      "Even\n"
     ]
    }
   ],
   "source": [
    "a=int(input(\"enter a number : \"))\n",
    "if(a%2==0):\n",
    "    print(\"Even\")\n",
    "else:\n",
    "    print(\"odd\")\n"
   ]
  },
  {
   "cell_type": "markdown",
   "id": "excellent-yahoo",
   "metadata": {},
   "source": [
    "<h1>Problem 2</h1>"
   ]
  },
  {
   "cell_type": "markdown",
   "id": "infinite-maine",
   "metadata": {},
   "source": [
    "<p><b>Print number of sample, if 100 <= a < 200, and a is divisible by 9<b><p>"
   ]
  },
  {
   "cell_type": "code",
   "execution_count": 15,
   "id": "improved-representation",
   "metadata": {},
   "outputs": [
    {
     "name": "stdout",
     "output_type": "stream",
     "text": [
      "enter a : 198\n",
      "yes\n"
     ]
    }
   ],
   "source": [
    "a=int(input(\"enter a : \"))\n",
    "if(a>=100 and a<200 and a%9==0):\n",
    "    print(\"yes\")\n",
    "else:\n",
    "    print(\"No\")\n"
   ]
  },
  {
   "cell_type": "markdown",
   "id": "sized-blood",
   "metadata": {},
   "source": [
    "<p><b>Display those numbers which are divisible by 7 and multiple of 5, between 500\n",
    "    and 100</b></p>"
   ]
  },
  {
   "cell_type": "code",
   "execution_count": 1,
   "id": "harmful-vehicle",
   "metadata": {},
   "outputs": [
    {
     "name": "stdout",
     "output_type": "stream",
     "text": [
      "enter a number:490\n",
      "Divisable\n"
     ]
    }
   ],
   "source": [
    "num=int(input(\"enter a number:\"))\n",
    "if(num>=100 and num<=500 and num%7==0 and num%5==0):\n",
    "    print(\"Divisable\")\n",
    "else:\n",
    "    print(\"Error\")"
   ]
  },
  {
   "cell_type": "markdown",
   "id": "suburban-webcam",
   "metadata": {},
   "source": [
    "<h1>Problem 3</h1>"
   ]
  },
  {
   "cell_type": "code",
   "execution_count": 5,
   "id": "universal-richmond",
   "metadata": {},
   "outputs": [
    {
     "name": "stdout",
     "output_type": "stream",
     "text": [
      "enter a:2009\n",
      "Not a leapyear\n"
     ]
    }
   ],
   "source": [
    "a=int(input(\"enter a:\"))\n",
    "if(a%400==0):\n",
    "    print(\"Leapyear\")\n",
    "    \n",
    "elif(a%4==0 and a%100!=0):\n",
    "    print(\"Leapyear\")\n",
    "else:\n",
    "    print(\"Not a leapyear\")"
   ]
  },
  {
   "cell_type": "markdown",
   "id": "worse-gossip",
   "metadata": {},
   "source": [
    "<h1>Problem 4</h1>"
   ]
  },
  {
   "cell_type": "markdown",
   "id": "fantastic-footwear",
   "metadata": {},
   "source": [
    "<p>● Make a simple calculator (function : +, -, * and /)<br>\n",
    "○ Take three input from a user, say, input1, input2, input3<br>\n",
    "○ input 1 represents arithmetic sing ( +, -, * and /)<br>\n",
    "○ Input 2 and input 3 represent number<br>\n",
    "○ Display arithmetic output of input 2 and input 3 based on input 1<br>"
   ]
  },
  {
   "cell_type": "code",
   "execution_count": 13,
   "id": "southeast-tradition",
   "metadata": {},
   "outputs": [
    {
     "name": "stdout",
     "output_type": "stream",
     "text": [
      "Enter a arithmatic sign :*\n",
      "Enter 1st number :3\n",
      "Enter 2nd number :4\n",
      "7\n",
      "-1\n",
      "12\n",
      "0.75\n"
     ]
    }
   ],
   "source": [
    "input1= input(\"Enter a arithmatic sign :\")\n",
    "input2=int(input(\"Enter 1st number :\"))\n",
    "input3=int(input(\"Enter 2nd number :\"))\n",
    "print(input2 + input3)\n",
    "print(input2 - input3)\n",
    "print(input2 * input3)\n",
    "print(input2 / input3)"
   ]
  },
  {
   "cell_type": "markdown",
   "id": "color-dayton",
   "metadata": {},
   "source": [
    "<h1>Problem 5</h1>\n"
   ]
  },
  {
   "cell_type": "code",
   "execution_count": 17,
   "id": "under-tooth",
   "metadata": {},
   "outputs": [
    {
     "name": "stdout",
     "output_type": "stream",
     "text": [
      "enter a :-98\n",
      "Negative\n"
     ]
    }
   ],
   "source": [
    "a=int(input(\"enter a :\"))\n",
    "if(a>0):\n",
    "    print(\"Positive\")\n",
    "elif(a<0):\n",
    "    print(\"Negative\")\n",
    "else:\n",
    "    print(\"Zero\")"
   ]
  },
  {
   "cell_type": "markdown",
   "id": "improving-connecticut",
   "metadata": {},
   "source": [
    "<h1>Problem 6</h1>\n"
   ]
  },
  {
   "cell_type": "code",
   "execution_count": 22,
   "id": "bridal-sudan",
   "metadata": {},
   "outputs": [
    {
     "name": "stdout",
     "output_type": "stream",
     "text": [
      "Enter l:4\n",
      "Enter b:4\n",
      "Square\n"
     ]
    }
   ],
   "source": [
    "l=int(input(\"Enter l:\"))\n",
    "b=int(input(\"Enter b:\"))\n",
    "if(l==b):\n",
    "    print(\"Square\")\n",
    "else:\n",
    "    print(\"Rectangle\")"
   ]
  },
  {
   "cell_type": "markdown",
   "id": "capital-manchester",
   "metadata": {},
   "source": [
    "<h1>Problem 7</h1>"
   ]
  },
  {
   "cell_type": "code",
   "execution_count": 30,
   "id": "elegant-bracelet",
   "metadata": {},
   "outputs": [
    {
     "name": "stdout",
     "output_type": "stream",
     "text": [
      "enter num1 : 34\n",
      "enter num2 : 56\n",
      "enter num3 : 78\n",
      "The highest number is 78\n",
      "The lowest number is 34\n"
     ]
    }
   ],
   "source": [
    "num1=int(input(\"enter num1 : \"))\n",
    "num2=int(input(\"enter num2 : \"))\n",
    "num3=int(input(\"enter num3 : \"))\n",
    "if (num1 >= num2) and (num1 >= num3):\n",
    "   largest = num1\n",
    "elif (num2 >= num1) and (num2 >= num3):\n",
    "   largest = num2\n",
    "else:\n",
    "   largest = num3\n",
    "if (num1 <= num2) and (num1 <= num3):\n",
    "   lowest = num1\n",
    "elif (num2 <= num1) and (num2 <= num3):\n",
    "   lowest = num2\n",
    "else:\n",
    "   lowest= num3\n",
    "print(\"The highest number is\",largest)\n",
    "print(\"The lowest number is\", lowest)\n"
   ]
  },
  {
   "cell_type": "markdown",
   "id": "spoken-supplier",
   "metadata": {},
   "source": [
    "<h1>Problem 8</h1>"
   ]
  },
  {
   "cell_type": "code",
   "execution_count": 32,
   "id": "hired-species",
   "metadata": {},
   "outputs": [
    {
     "name": "stdout",
     "output_type": "stream",
     "text": [
      "enter a : 90\n",
      "A+\n"
     ]
    }
   ],
   "source": [
    "a=int(input(\"enter a : \"))\n",
    "if(a>=80):\n",
    "    print(\"A+\")\n",
    "elif(a>=70 and a<80):\n",
    "    print(\"A\")\n",
    "elif(a>=60 and a<70):\n",
    "    print(\"A-\")    \n",
    "elif(a>=50 and a<60):\n",
    "    print(\"B\")\n",
    "elif(a>=40 and a<50):\n",
    "    print(\"c\")\n",
    "elif(a>=33 and a<40):\n",
    "    print(\"D\")\n",
    "else:\n",
    "    print(\"F\")"
   ]
  },
  {
   "cell_type": "code",
   "execution_count": null,
   "id": "variable-myrtle",
   "metadata": {},
   "outputs": [],
   "source": []
  },
  {
   "cell_type": "code",
   "execution_count": null,
   "id": "relative-capitol",
   "metadata": {},
   "outputs": [],
   "source": []
  }
 ],
 "metadata": {
  "kernelspec": {
   "display_name": "Python 3",
   "language": "python",
   "name": "python3"
  },
  "language_info": {
   "codemirror_mode": {
    "name": "ipython",
    "version": 3
   },
   "file_extension": ".py",
   "mimetype": "text/x-python",
   "name": "python",
   "nbconvert_exporter": "python",
   "pygments_lexer": "ipython3",
   "version": "3.9.2"
  }
 },
 "nbformat": 4,
 "nbformat_minor": 5
}
